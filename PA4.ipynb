{
 "cells": [
  {
   "cell_type": "markdown",
   "id": "730dcfea",
   "metadata": {},
   "source": [
    "## PA4"
   ]
  },
  {
   "cell_type": "markdown",
   "id": "07de2aef",
   "metadata": {},
   "source": [
    "### 1. Data Frame Creation"
   ]
  },
  {
   "cell_type": "code",
   "execution_count": 6,
   "id": "e9fcd9fd",
   "metadata": {},
   "outputs": [
    {
     "data": {
      "text/html": [
       "<div>\n",
       "<style scoped>\n",
       "    .dataframe tbody tr th:only-of-type {\n",
       "        vertical-align: middle;\n",
       "    }\n",
       "\n",
       "    .dataframe tbody tr th {\n",
       "        vertical-align: top;\n",
       "    }\n",
       "\n",
       "    .dataframe thead th {\n",
       "        text-align: right;\n",
       "    }\n",
       "</style>\n",
       "<table border=\"1\" class=\"dataframe\">\n",
       "  <thead>\n",
       "    <tr style=\"text-align: right;\">\n",
       "      <th></th>\n",
       "      <th>Name</th>\n",
       "      <th>Gender</th>\n",
       "      <th>Track</th>\n",
       "      <th>Hometown</th>\n",
       "      <th>Math</th>\n",
       "      <th>Electronics</th>\n",
       "      <th>GEAS</th>\n",
       "      <th>Communication</th>\n",
       "    </tr>\n",
       "  </thead>\n",
       "  <tbody>\n",
       "    <tr>\n",
       "      <th>0</th>\n",
       "      <td>S1</td>\n",
       "      <td>Male</td>\n",
       "      <td>Instrumentation</td>\n",
       "      <td>Luzon</td>\n",
       "      <td>58</td>\n",
       "      <td>89</td>\n",
       "      <td>75</td>\n",
       "      <td>78</td>\n",
       "    </tr>\n",
       "    <tr>\n",
       "      <th>1</th>\n",
       "      <td>S2</td>\n",
       "      <td>Female</td>\n",
       "      <td>Communication</td>\n",
       "      <td>Mindanao</td>\n",
       "      <td>52</td>\n",
       "      <td>75</td>\n",
       "      <td>90</td>\n",
       "      <td>52</td>\n",
       "    </tr>\n",
       "    <tr>\n",
       "      <th>2</th>\n",
       "      <td>S3</td>\n",
       "      <td>Female</td>\n",
       "      <td>Instrumentation</td>\n",
       "      <td>Mindanao</td>\n",
       "      <td>83</td>\n",
       "      <td>74</td>\n",
       "      <td>77</td>\n",
       "      <td>57</td>\n",
       "    </tr>\n",
       "    <tr>\n",
       "      <th>3</th>\n",
       "      <td>S4</td>\n",
       "      <td>Male</td>\n",
       "      <td>Instrumentation</td>\n",
       "      <td>Visayas</td>\n",
       "      <td>65</td>\n",
       "      <td>58</td>\n",
       "      <td>91</td>\n",
       "      <td>68</td>\n",
       "    </tr>\n",
       "    <tr>\n",
       "      <th>4</th>\n",
       "      <td>S5</td>\n",
       "      <td>Male</td>\n",
       "      <td>Communication</td>\n",
       "      <td>Luzon</td>\n",
       "      <td>59</td>\n",
       "      <td>86</td>\n",
       "      <td>43</td>\n",
       "      <td>88</td>\n",
       "    </tr>\n",
       "  </tbody>\n",
       "</table>\n",
       "</div>"
      ],
      "text/plain": [
       "  Name  Gender            Track  Hometown  Math  Electronics  GEAS  \\\n",
       "0   S1    Male  Instrumentation     Luzon    58           89    75   \n",
       "1   S2  Female    Communication  Mindanao    52           75    90   \n",
       "2   S3  Female  Instrumentation  Mindanao    83           74    77   \n",
       "3   S4    Male  Instrumentation   Visayas    65           58    91   \n",
       "4   S5    Male    Communication     Luzon    59           86    43   \n",
       "\n",
       "   Communication  \n",
       "0             78  \n",
       "1             52  \n",
       "2             57  \n",
       "3             68  \n",
       "4             88  "
      ]
     },
     "execution_count": 6,
     "metadata": {},
     "output_type": "execute_result"
    }
   ],
   "source": [
    "import pandas as pd\n",
    "\n",
    "df  = pd.read_excel('board2.xlsx')\n",
    "df.head()"
   ]
  },
  {
   "cell_type": "markdown",
   "id": "9eb3c56d",
   "metadata": {},
   "source": [
    "a."
   ]
  },
  {
   "cell_type": "code",
   "execution_count": 13,
   "id": "02940d03",
   "metadata": {},
   "outputs": [
    {
     "data": {
      "text/html": [
       "<div>\n",
       "<style scoped>\n",
       "    .dataframe tbody tr th:only-of-type {\n",
       "        vertical-align: middle;\n",
       "    }\n",
       "\n",
       "    .dataframe tbody tr th {\n",
       "        vertical-align: top;\n",
       "    }\n",
       "\n",
       "    .dataframe thead th {\n",
       "        text-align: right;\n",
       "    }\n",
       "</style>\n",
       "<table border=\"1\" class=\"dataframe\">\n",
       "  <thead>\n",
       "    <tr style=\"text-align: right;\">\n",
       "      <th></th>\n",
       "      <th>Name</th>\n",
       "      <th>GEAS</th>\n",
       "      <th>Electronics</th>\n",
       "    </tr>\n",
       "  </thead>\n",
       "  <tbody>\n",
       "    <tr>\n",
       "      <th>0</th>\n",
       "      <td>S1</td>\n",
       "      <td>75</td>\n",
       "      <td>89</td>\n",
       "    </tr>\n",
       "    <tr>\n",
       "      <th>7</th>\n",
       "      <td>S8</td>\n",
       "      <td>64</td>\n",
       "      <td>81</td>\n",
       "    </tr>\n",
       "    <tr>\n",
       "      <th>29</th>\n",
       "      <td>S30</td>\n",
       "      <td>57</td>\n",
       "      <td>81</td>\n",
       "    </tr>\n",
       "  </tbody>\n",
       "</table>\n",
       "</div>"
      ],
      "text/plain": [
       "   Name  GEAS  Electronics\n",
       "0    S1    75           89\n",
       "7    S8    64           81\n",
       "29  S30    57           81"
      ]
     },
     "execution_count": 13,
     "metadata": {},
     "output_type": "execute_result"
    }
   ],
   "source": [
    "Instru = df.loc[(df['Track']=='Instrumentation')& \n",
    "                (df['Hometown']=='Luzon')&\n",
    "                (df['Electronics']>70), ['Name', 'GEAS', 'Electronics']]\n",
    "Instru"
   ]
  },
  {
   "cell_type": "code",
   "execution_count": 8,
   "id": "3a494d33",
   "metadata": {},
   "outputs": [
    {
     "data": {
      "text/html": [
       "<div>\n",
       "<style scoped>\n",
       "    .dataframe tbody tr th:only-of-type {\n",
       "        vertical-align: middle;\n",
       "    }\n",
       "\n",
       "    .dataframe tbody tr th {\n",
       "        vertical-align: top;\n",
       "    }\n",
       "\n",
       "    .dataframe thead th {\n",
       "        text-align: right;\n",
       "    }\n",
       "</style>\n",
       "<table border=\"1\" class=\"dataframe\">\n",
       "  <thead>\n",
       "    <tr style=\"text-align: right;\">\n",
       "      <th></th>\n",
       "      <th>Name</th>\n",
       "      <th>Track</th>\n",
       "      <th>Electronics</th>\n",
       "      <th>Ave</th>\n",
       "    </tr>\n",
       "  </thead>\n",
       "  <tbody>\n",
       "    <tr>\n",
       "      <th>1</th>\n",
       "      <td>S2</td>\n",
       "      <td>Communication</td>\n",
       "      <td>75</td>\n",
       "      <td>67.25</td>\n",
       "    </tr>\n",
       "    <tr>\n",
       "      <th>2</th>\n",
       "      <td>S3</td>\n",
       "      <td>Instrumentation</td>\n",
       "      <td>74</td>\n",
       "      <td>72.75</td>\n",
       "    </tr>\n",
       "    <tr>\n",
       "      <th>14</th>\n",
       "      <td>S15</td>\n",
       "      <td>Microelectronics</td>\n",
       "      <td>41</td>\n",
       "      <td>59.00</td>\n",
       "    </tr>\n",
       "    <tr>\n",
       "      <th>16</th>\n",
       "      <td>S17</td>\n",
       "      <td>Microelectronics</td>\n",
       "      <td>79</td>\n",
       "      <td>70.50</td>\n",
       "    </tr>\n",
       "    <tr>\n",
       "      <th>19</th>\n",
       "      <td>S20</td>\n",
       "      <td>Communication</td>\n",
       "      <td>60</td>\n",
       "      <td>66.50</td>\n",
       "    </tr>\n",
       "  </tbody>\n",
       "</table>\n",
       "</div>"
      ],
      "text/plain": [
       "   Name             Track  Electronics    Ave\n",
       "1    S2     Communication           75  67.25\n",
       "2    S3   Instrumentation           74  72.75\n",
       "14  S15  Microelectronics           41  59.00\n",
       "16  S17  Microelectronics           79  70.50\n",
       "19  S20     Communication           60  66.50"
      ]
     },
     "execution_count": 8,
     "metadata": {},
     "output_type": "execute_result"
    }
   ],
   "source": [
    "# compute the average\n",
    "df['Ave'] = df[['Math', 'Electronics', 'GEAS', 'Communication']].mean(axis=1)\n",
    "\n",
    "# filter female students from Mindanao with Ave >= 55\n",
    "Mindy = df.loc[\n",
    "    (df['Hometown'] == 'Mindanao') & \n",
    "    (df['Gender'] == 'Female') & \n",
    "    (df['Ave'] >= 55), \n",
    "    ['Name', 'Track', 'Electronics', 'Ave']\n",
    "]\n",
    "\n",
    "Mindy"
   ]
  },
  {
   "cell_type": "markdown",
   "id": "95b97b9c",
   "metadata": {},
   "source": [
    "### 2. Visualization"
   ]
  },
  {
   "cell_type": "code",
   "execution_count": 12,
   "id": "2073c006",
   "metadata": {},
   "outputs": [
    {
     "name": "stderr",
     "output_type": "stream",
     "text": [
      "Matplotlib is building the font cache; this may take a moment.\n"
     ]
    }
   ],
   "source": [
    "import matplotlib.pyplot as plt"
   ]
  },
  {
   "cell_type": "markdown",
   "id": "c4cdeadb",
   "metadata": {},
   "source": [
    "Average by Track"
   ]
  },
  {
   "cell_type": "code",
   "execution_count": 13,
   "id": "3caf631a",
   "metadata": {},
   "outputs": [
    {
     "data": {
      "text/plain": [
       "<BarContainer object of 3 artists>"
      ]
     },
     "execution_count": 13,
     "metadata": {},
     "output_type": "execute_result"
    },
    {
     "data": {
      "image/png": "[encoded data removed]",
      "text/plain": [
       "<Figure size 640x480 with 1 Axes>"
      ]
     },
     "metadata": {},
     "output_type": "display_data"
    }
   ],
   "source": [
    "tracks = df['Track'].unique()\n",
    "plt.bar(tracks, [df[df['Track'] == t]['Ave'].mean() for t in tracks])"
   ]
  },
  {
   "cell_type": "markdown",
   "id": "3516b480",
   "metadata": {},
   "source": [
    "Average by Gender"
   ]
  },
  {
   "cell_type": "code",
   "execution_count": 15,
   "id": "0836ac81",
   "metadata": {},
   "outputs": [
    {
     "data": {
      "text/plain": [
       "<BarContainer object of 2 artists>"
      ]
     },
     "execution_count": 15,
     "metadata": {},
     "output_type": "execute_result"
    },
    {
     "data": {
      "image/png": "[encoded data removed]",
      "text/plain": [
       "<Figure size 640x480 with 1 Axes>"
      ]
     },
     "metadata": {},
     "output_type": "display_data"
    }
   ],
   "source": [
    "gender = df[\"Gender\"].unique()\n",
    "plt.bar(gender, [df[df['Gender'] == g]['Ave'].mean() for g in gender])"
   ]
  },
  {
   "cell_type": "markdown",
   "id": "e32bf97d",
   "metadata": {},
   "source": [
    "Average by Hometowns"
   ]
  },
  {
   "cell_type": "code",
   "execution_count": 17,
   "id": "34ceb7d6",
   "metadata": {},
   "outputs": [
    {
     "data": {
      "text/plain": [
       "<BarContainer object of 3 artists>"
      ]
     },
     "execution_count": 17,
     "metadata": {},
     "output_type": "execute_result"
    },
    {
     "data": {
      "image/png": "[encoded data removed]",
      "text/plain": [
       "<Figure size 640x480 with 1 Axes>"
      ]
     },
     "metadata": {},
     "output_type": "display_data"
    }
   ],
   "source": [
    "hometowns = df['Hometown'].unique()\n",
    "plt.bar(hometowns, [df[df['Hometown'] == h]['Ave'].mean() for h in hometowns])"
   ]
  }
 ],
 "metadata": {
  "kernelspec": {
   "display_name": "Python 3",
   "language": "python",
   "name": "python3"
  },
  "language_info": {
   "codemirror_mode": {
    "name": "ipython",
    "version": 3
   },
   "file_extension": ".py",
   "mimetype": "text/x-python",
   "name": "python",
   "nbconvert_exporter": "python",
   "pygments_lexer": "ipython3",
   "version": "3.11.4"
  }
 },
 "nbformat": 4,
 "nbformat_minor": 5
}
